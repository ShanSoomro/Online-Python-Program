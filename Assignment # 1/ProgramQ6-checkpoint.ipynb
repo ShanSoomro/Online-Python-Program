{
 "cells": [
  {
   "cell_type": "code",
   "execution_count": 3,
   "id": "1c053e10",
   "metadata": {},
   "outputs": [
    {
     "name": "stdout",
     "output_type": "stream",
     "text": [
      "Enter First Value...3\n",
      "Enter Second Value...3\n",
      "6\n"
     ]
    }
   ],
   "source": [
    "val1 = int(input(\"Enter First Value...\"));\n",
    "val2 = int(input(\"Enter Second Value...\"));\n",
    "sum=val1+val2;\n",
    "print(sum);\n"
   ]
  }
 ],
 "metadata": {
  "kernelspec": {
   "display_name": "Python 3 (ipykernel)",
   "language": "python",
   "name": "python3"
  },
  "language_info": {
   "codemirror_mode": {
    "name": "ipython",
    "version": 3
   },
   "file_extension": ".py",
   "mimetype": "text/x-python",
   "name": "python",
   "nbconvert_exporter": "python",
   "pygments_lexer": "ipython3",
   "version": "3.9.7"
  }
 },
 "nbformat": 4,
 "nbformat_minor": 5
}
