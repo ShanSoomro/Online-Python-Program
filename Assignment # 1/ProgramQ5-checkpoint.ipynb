{
 "cells": [
  {
   "cell_type": "code",
   "execution_count": 5,
   "id": "a3710474",
   "metadata": {},
   "outputs": [
    {
     "name": "stdout",
     "output_type": "stream",
     "text": [
      "Enter First Name..shan\n",
      "Enter Last Name...irfan\n",
      "shan nafri\n"
     ]
    }
   ],
   "source": [
    "Fname= input(\"Enter First Name..\");\n",
    "Lname= input(\"Enter Last Name...\");\n",
    "print(Fname,Lname [::-1]);"
   ]
  }
 ],
 "metadata": {
  "kernelspec": {
   "display_name": "Python 3 (ipykernel)",
   "language": "python",
   "name": "python3"
  },
  "language_info": {
   "codemirror_mode": {
    "name": "ipython",
    "version": 3
   },
   "file_extension": ".py",
   "mimetype": "text/x-python",
   "name": "python",
   "nbconvert_exporter": "python",
   "pygments_lexer": "ipython3",
   "version": "3.9.7"
  }
 },
 "nbformat": 4,
 "nbformat_minor": 5
}
