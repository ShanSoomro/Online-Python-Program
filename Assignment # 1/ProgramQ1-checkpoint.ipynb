{
 "cells": [
  {
   "cell_type": "code",
   "execution_count": 12,
   "id": "ec7e7a97",
   "metadata": {},
   "outputs": [
    {
     "name": "stdout",
     "output_type": "stream",
     "text": [
      "Twinkle,twinkle, little star,\n",
      "\t How I wonder what you are! \n",
      "\t\t Up above the world so high,\n",
      "\t\t Like a diamond in the sky.\n",
      " Twinkle,twinkle,little star,\n",
      "\t How I wonder what you are.\n"
     ]
    }
   ],
   "source": [
    "print(\"Twinkle,twinkle, little star,\\n\\t How I wonder what you are! \\n\\t\\t Up above the world so high,\\n\\t\\t Like a diamond in the sky.\\n Twinkle,twinkle,little star,\\n\\t How I wonder what you are.\")"
   ]
  },
  {
   "cell_type": "code",
   "execution_count": null,
   "id": "4ba81606",
   "metadata": {},
   "outputs": [],
   "source": []
  }
 ],
 "metadata": {
  "kernelspec": {
   "display_name": "Python 3 (ipykernel)",
   "language": "python",
   "name": "python3"
  },
  "language_info": {
   "codemirror_mode": {
    "name": "ipython",
    "version": 3
   },
   "file_extension": ".py",
   "mimetype": "text/x-python",
   "name": "python",
   "nbconvert_exporter": "python",
   "pygments_lexer": "ipython3",
   "version": "3.9.7"
  }
 },
 "nbformat": 4,
 "nbformat_minor": 5
}
