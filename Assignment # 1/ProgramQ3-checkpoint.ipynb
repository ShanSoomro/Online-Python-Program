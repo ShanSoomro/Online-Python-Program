{
 "cells": [
  {
   "cell_type": "code",
   "execution_count": 40,
   "id": "a8192d58",
   "metadata": {},
   "outputs": [
    {
     "name": "stdout",
     "output_type": "stream",
     "text": [
      "now = 2021-12-31 21:32:11.360715\n",
      "Date & Time = 31/12/21  09:32:11\n"
     ]
    }
   ],
   "source": [
    "from datetime import datetime \n",
    "import time\n",
    "now = datetime.now();\n",
    "print(\"now =\",now);\n",
    "dt_string = now.strftime(\"%d/%m/%y  %I:%M:%S\");\n",
    "print (\"Date & Time =\",dt_string);\n",
    "\n"
   ]
  },
  {
   "cell_type": "code",
   "execution_count": null,
   "id": "b510917c",
   "metadata": {},
   "outputs": [],
   "source": []
  }
 ],
 "metadata": {
  "kernelspec": {
   "display_name": "Python 3 (ipykernel)",
   "language": "python",
   "name": "python3"
  },
  "language_info": {
   "codemirror_mode": {
    "name": "ipython",
    "version": 3
   },
   "file_extension": ".py",
   "mimetype": "text/x-python",
   "name": "python",
   "nbconvert_exporter": "python",
   "pygments_lexer": "ipython3",
   "version": "3.9.7"
  }
 },
 "nbformat": 4,
 "nbformat_minor": 5
}
